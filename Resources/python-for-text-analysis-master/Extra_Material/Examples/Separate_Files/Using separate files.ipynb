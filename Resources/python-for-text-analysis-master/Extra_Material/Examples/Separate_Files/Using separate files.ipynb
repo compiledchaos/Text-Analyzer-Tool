{
 "cells": [
  {
   "cell_type": "markdown",
   "metadata": {},
   "source": [
    "# Using separate files\n",
    "\n",
    "When you have a big project, you'll want to organize your code so that it's easy to manage. Instead of one large notebook, or one big standalone `.py` file, it's often a good idea to create several smaller `.py` files that you can import in your main file or notebook.\n",
    "\n",
    "I put a script in the main directory (i.e. the same one as this notebook). You can import it like this:"
   ]
  },
  {
   "cell_type": "code",
   "execution_count": 1,
   "metadata": {
    "collapsed": false
   },
   "outputs": [
    {
     "name": "stdout",
     "output_type": "stream",
     "text": [
      "Hello, world!\n"
     ]
    }
   ],
   "source": [
    "import main_dir_script\n",
    "\n",
    "main_dir_script.hello_world()"
   ]
  },
  {
   "cell_type": "markdown",
   "metadata": {},
   "source": [
    "You can also import specific functions like this:"
   ]
  },
  {
   "cell_type": "code",
   "execution_count": 2,
   "metadata": {
    "collapsed": false
   },
   "outputs": [
    {
     "name": "stdout",
     "output_type": "stream",
     "text": [
      "Hello, world!\n"
     ]
    }
   ],
   "source": [
    "from main_dir_script import hello_world\n",
    "\n",
    "hello_world()"
   ]
  },
  {
   "cell_type": "markdown",
   "metadata": {},
   "source": [
    "But the result of this may be that you get a very cluttered main directory. In order to prevent this, we can make a separate folder with all the scripts. I've put an example below. (Also look in the actual folder!)\n",
    "\n",
    "IMPORTANT: there needs to be a file called `__init__.py` in the scripts folder. Without it, Python doesn't know it can import scripts from there."
   ]
  },
  {
   "cell_type": "code",
   "execution_count": 3,
   "metadata": {
    "collapsed": false
   },
   "outputs": [
    {
     "name": "stdout",
     "output_type": "stream",
     "text": [
      "Hello from the other side!\n"
     ]
    }
   ],
   "source": [
    "from scripts import adele\n",
    "\n",
    "adele.hello()"
   ]
  },
  {
   "cell_type": "code",
   "execution_count": 5,
   "metadata": {
    "collapsed": false
   },
   "outputs": [
    {
     "name": "stdout",
     "output_type": "stream",
     "text": [
      "Hello from the other side!\n"
     ]
    }
   ],
   "source": [
    "from scripts.adele import hello\n",
    "\n",
    "hello()"
   ]
  },
  {
   "cell_type": "markdown",
   "metadata": {},
   "source": [
    "And that's all there is to it! Good luck organizing your code :)"
   ]
  }
 ],
 "metadata": {
  "anaconda-cloud": {},
  "kernelspec": {
   "display_name": "Python [conda root]",
   "language": "python",
   "name": "conda-root-py"
  },
  "language_info": {
   "codemirror_mode": {
    "name": "ipython",
    "version": 3
   },
   "file_extension": ".py",
   "mimetype": "text/x-python",
   "name": "python",
   "nbconvert_exporter": "python",
   "pygments_lexer": "ipython3",
   "version": "3.5.2"
  }
 },
 "nbformat": 4,
 "nbformat_minor": 1
}
