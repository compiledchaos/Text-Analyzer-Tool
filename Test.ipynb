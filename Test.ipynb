{
 "cells": [
  {
   "cell_type": "code",
   "execution_count": 7,
   "id": "dc560ed3",
   "metadata": {},
   "outputs": [],
   "source": [
    "import nltk\n",
    "import string as s\n",
    "\n",
    "def word_frequency(word):\n",
    "    sw = \"“”````''\"\n",
    "    with open(word, encoding=\"utf-8\") as f:\n",
    "        content = f.read().replace(\"’\",\"'\")\n",
    "    words = nltk.word_tokenize(content)\n",
    "    words = [z for z in words if z not in s.punctuation and z not in sw]\n",
    "    thisdict = {w: words.count(w) for w in set(words)}\n",
    "    with open(\"word_frequency\", \"w\", encoding=\"utf-8\") as w:\n",
    "        for x, y in thisdict.items():\n",
    "            w.write(f\"{x}, {y}\\n\")\n",
    "    return thisdict\n",
    "\n",
    "\n",
    "\n",
    "def find_top_words(thisdict):\n",
    "    mydict = {}\n",
    "    top_words = sorted(thisdict.items(), key=lambda item: item[1], reverse=True)[:10]\n",
    "    for word, freq in top_words:\n",
    "        mydict[word] = freq\n",
    "    with open(\"top_words\", \"w\", encoding=\"utf-8\") as w:\n",
    "        for x, y in mydict.items():\n",
    "            w.write(f\"{x}, {y}\\n\")\n",
    "    return mydict\n",
    "\n",
    "def text_analyzer_tool(word):\n",
    "    word_freq = word_frequency(word)\n",
    "    top_words = find_top_words(word_freq)\n",
    "    with open(\"analyzed_text\", \"w\", encoding=\"utf-8\") as w:\n",
    "        w.write(f\"The top words in {word} are:\\n\\n\")\n",
    "        for x in top_words:\n",
    "            w.write(f\"{x}\\n\")\n",
    "        w.write(\"\\n\")\n",
    "        w.write(f\"The frequency of all words in {word} are:\\n\\n\")\n",
    "        for x, y in word_freq.items():\n",
    "            w.write(f\"{x}, {y}\\n\")\n",
    "\n",
    "text_analyzer_tool(\"Text\")"
   ]
  }
 ],
 "metadata": {
  "kernelspec": {
   "display_name": "Python 3",
   "language": "python",
   "name": "python3"
  },
  "language_info": {
   "codemirror_mode": {
    "name": "ipython",
    "version": 3
   },
   "file_extension": ".py",
   "mimetype": "text/x-python",
   "name": "python",
   "nbconvert_exporter": "python",
   "pygments_lexer": "ipython3",
   "version": "3.13.3"
  }
 },
 "nbformat": 4,
 "nbformat_minor": 5
}
