{
 "cells": [
  {
   "cell_type": "code",
   "execution_count": null,
   "id": "dc560ed3",
   "metadata": {},
   "outputs": [
    {
     "name": "stdout",
     "output_type": "stream",
     "text": [
      "['Considered', 'the', 'greatest', 'English-speaking', 'writer', 'in', 'history', 'and', 'known', 'as', 'England', \"'s\", 'national', 'poet', 'William', 'Shakespeare', '1564-1616', 'has', 'had', 'more', 'theatrical', 'works', 'performed', 'than', 'any', 'other', 'playwright', 'To', 'this', 'day', 'countless', 'theater', 'festivals', 'around', 'the', 'world', 'honor', 'his', 'work', 'students', 'memorize', 'his', 'eloquent', 'poems', 'and', 'scholars', 'reinterpret', 'the', 'million', 'words', 'of', 'text', 'he', 'composed', 'They', 'also', 'hunt', 'for', 'clues', 'about', 'the', 'life', 'of', 'the', 'man', 'who', 'inspires', 'such', 'bardolatry', 'as', 'George', 'Bernard', 'Shaw', 'derisively', 'called', 'it', 'much', 'of', 'which', 'remains', 'shrouded', 'in', 'mystery', 'Born', 'into', 'a', 'family', 'of', 'modest', 'means', 'in', 'Elizabethan', 'England', 'the', 'Bard', 'of', 'Avon', 'wrote', 'at', 'least', '37', 'plays', 'and', 'a', 'collection', 'of', 'sonnets', 'established', 'the', 'legendary', 'Globe', 'theater', 'and', 'helped', 'transform', 'the', 'English', 'language', 'Shakespeare', \"'s\", 'Childhood', 'and', 'Family', 'Life', 'William', 'Shakespeare', 'was', 'born', 'in', 'Stratford-upon-Avon', 'a', 'bustling', 'market', 'town', '100', 'miles', 'northwest', 'of', 'London', 'and', 'baptized', 'there', 'on', 'April', '26', '1564', 'His', 'birthday', 'is', 'traditionally', 'celebrated', 'on', 'April', '23', 'which', 'was', 'the', 'date', 'of', 'his', 'death', 'in', '1616', 'and', 'is', 'the', 'feast', 'day', 'of', 'St.', 'George', 'the', 'patron', 'saint', 'of', 'England', 'Shakespeare', \"'s\", 'father', 'John', 'dabbled', 'in', 'farming', 'wood', 'trading', 'tanning', 'leatherwork', 'money', 'lending', 'and', 'other', 'occupations', 'he', 'also', 'held', 'a', 'series', 'of', 'municipal', 'positions', 'before', 'falling', 'into', 'debt', 'in', 'the', 'late', '1580s', 'The', 'ambitious', 'son', 'of', 'a', 'tenant', 'farmer', 'John', 'boosted', 'his', 'social', 'status', 'by', 'marrying', 'Mary', 'Arden', 'the', 'daughter', 'of', 'an', 'aristocratic', 'landowner', 'Like', 'John', 'she', 'may', 'have', 'been', 'a', 'practicing', 'Catholic', 'at', 'a', 'time', 'when', 'those', 'who', 'rejected', 'the', 'newly', 'established', 'Church', 'of', 'England', 'faced', 'persecution', 'William', 'was', 'the', 'third', 'of', 'eight', 'Shakespeare', 'children', 'of', 'whom', 'three', 'died', 'in', 'childhood', 'Though', 'no', 'records', 'of', 'his', 'education', 'survive', 'it', 'is', 'likely', 'that', 'he', 'attended', 'the', 'well-regarded', 'local', 'grammar', 'school', 'where', 'he', 'would', 'have', 'studied', 'Latin', 'grammar', 'and', 'classics', 'It', 'is', 'unknown', 'whether', 'he', 'completed', 'his', 'studies', 'or', 'abandoned', 'them', 'as', 'an', 'adolescent', 'to', 'apprentice', 'with', 'his', 'father', 'At', '18', 'Shakespeare', 'married', 'Anne', 'Hathaway', '1556-1616', 'a', 'woman', 'eight', 'years', 'his', 'senior', 'in', 'a', 'ceremony', 'thought', 'to', 'have', 'been', 'hastily', 'arranged', 'due', 'to', 'her', 'pregnancy', 'A', 'daughter', 'Susanna', 'was', 'born', 'less', 'than', 'seven', 'months', 'later', 'in', 'May', '1583', 'Twins', 'Hamnet', 'and', 'Judith', 'followed', 'in', 'February', '1585', 'Susanna', 'and', 'Judith', 'would', 'live', 'to', 'old', 'age', 'while', 'Hamnet', 'Shakespeare', \"'s\", 'only', 'son', 'died', 'at', '11', 'As', 'for', 'William', 'and', 'Anne', 'it', 'is', 'believed', 'that', 'the', 'couple', 'lived', 'apart', 'for', 'most', 'of', 'the', 'year', 'while', 'the', 'bard', 'pursued', 'his', 'writing', 'and', 'theater', 'career', 'in', 'London', 'It', 'was', 'not', 'until', 'the', 'end', 'of', 'his', 'life', 'that', 'Shakespeare', 'moved', 'back', 'in', 'with', 'Anne', 'in', 'their', 'Stratford', 'home', 'Shakespeare', \"'s\", 'Lost', 'Years', 'and', 'Early', 'Career', 'To', 'the', 'dismay', 'of', 'his', 'biographers', 'Shakespeare', 'disappears', 'from', 'the', 'historical', 'record', 'between', '1585', 'when', 'his', 'twins', 'baptism', 'was', 'recorded', 'and', '1592', 'when', 'the', 'playwright', 'Robert', 'Greene', 'denounced', 'him', 'in', 'a', 'pamphlet', 'as', 'an', 'upstart', 'crow', 'evidence', 'that', 'he', 'had', 'already', 'made', 'a', 'name', 'for', 'himself', 'on', 'the', 'London', 'stage', 'What', 'did', 'the', 'newly', 'married', 'father', 'and', 'future', 'literary', 'icon', 'do', 'during', 'those', 'seven', 'lost', 'years', 'Historians', 'have', 'speculated', 'that', 'he', 'worked', 'as', 'a', 'schoolteacher', 'studied', 'law', 'traveled', 'across', 'continental', 'Europe', 'or', 'joined', 'an', 'acting', 'troupe', 'that', 'was', 'passing', 'through', 'Stratford', 'According', 'to', 'one', '17th-century', 'account', 'he', 'fled', 'his', 'hometown', 'after', 'poaching', 'deer', 'from', 'a', 'local', 'politician', \"'s\", 'estate', 'Whatever', 'the', 'answer', 'by', '1592', 'Shakespeare', 'had', 'begun', 'working', 'as', 'an', 'actor', 'penned', 'several', 'plays', 'and', 'spent', 'enough', 'time', 'in', 'London', 'to', 'write', 'about', 'its', 'geography', 'culture', 'and', 'diverse', 'personalities', 'with', 'great', 'authority', 'Even', 'his', 'earliest', 'works', 'evince', 'knowledge', 'of', 'European', 'affairs', 'and', 'foreign', 'countries', 'familiarity', 'with', 'the', 'royal', 'court', 'and', 'general', 'erudition', 'that', 'might', 'seem', 'unattainable', 'to', 'a', 'young', 'man', 'raised', 'in', 'the', 'provinces', 'by', 'parents', 'who', 'were', 'probably', 'illiterate', 'For', 'this', 'reason', 'some', 'theorists', 'have', 'suggested', 'that', 'one', 'or', 'several', 'authors', 'wishing', 'to', 'conceal', 'their', 'true', 'identity', 'used', 'the', 'person', 'of', 'William', 'Shakespeare', 'as', 'a', 'front', 'Most', 'scholars', 'and', 'literary', 'historians', 'dismiss', 'this', 'hypothesis', 'although', 'many', 'suspect', 'Shakespeare', 'sometimes', 'collaborated', 'with', 'other', 'playwrights', 'Shakespeare', \"'s\", 'Plays', 'and', 'Poems', 'Shakespeare', \"'s\", 'first', 'plays', 'believed', 'to', 'have', 'been', 'written', 'before', 'or', 'around', '1592', 'encompass', 'all', 'three', 'of', 'the', 'main', 'dramatic', 'genres', 'in', 'the', 'bard', \"'s\", 'oeuvre', 'tragedy', 'Titus', 'Andronicus', 'comedy', 'The', 'Two', 'Gentlemen', 'of', 'Verona', 'The', 'Comedy', 'of', 'Errors', 'and', 'The', 'Taming', 'of', 'the', 'Shrew', 'and', 'history', 'the', 'Henry', 'VI', 'trilogy', 'and', 'Richard', 'III', 'Shakespeare', 'was', 'likely', 'affiliated', 'with', 'several', 'different', 'theater', 'companies', 'when', 'these', 'early', 'works', 'debuted', 'on', 'the', 'London', 'stage', 'In', '1594', 'he', 'began', 'writing', 'and', 'acting', 'for', 'a', 'troupe', 'known', 'as', 'the', 'Lord', 'Chamberlain', \"'s\", 'Men', 'renamed', 'the', 'King', \"'s\", 'Men', 'when', 'James', 'I', 'appointed', 'himself', 'its', 'patron', 'ultimately', 'becoming', 'its', 'house', 'playwright', 'and', 'partnering', 'with', 'other', 'members', 'to', 'establish', 'the', 'legendary', 'Globe', 'theater', 'in', '1599', 'Between', 'the', 'mid-1590s', 'and', 'his', 'retirement', 'around', '1612', 'Shakespeare', 'penned', 'the', 'most', 'famous', 'of', 'his', '37-plus', 'plays', 'including', 'Romeo', 'and', 'Juliet', 'A', 'Midsummer', 'Night', \"'s\", 'Dream', 'Hamlet', 'King', 'Lear', 'Macbeth', 'and', 'The', 'Tempest.', 'As', 'a', 'dramatist', 'he', 'is', 'known', 'for', 'his', 'frequent', 'use', 'of', 'iambic', 'pentameter', 'meditative', 'soliloquies', 'such', 'as', 'Hamlet', \"'s\", 'ubiquitous', 'To', 'be', 'or', 'not', 'to', 'be', 'speech', 'and', 'ingenious', 'wordplay', 'His', 'works', 'weave', 'together', 'and', 'reinvent', 'theatrical', 'conventions', 'dating', 'back', 'to', 'ancient', 'Greece', 'featuring', 'assorted', 'casts', 'of', 'characters', 'with', 'complex', 'psyches', 'and', 'profoundly', 'human', 'interpersonal', 'conflicts', 'Some', 'of', 'his', 'plays—notably', 'All', \"'s\", 'Well', 'That', 'Ends', 'Well', 'Measure', 'for', 'Measure', 'and', 'Troilus', 'and', 'Cressida', '—are', 'characterized', 'by', 'moral', 'ambiguity', 'and', 'jarring', 'shifts', 'in', 'tone', 'defying', 'much', 'like', 'life', 'itself', 'classification', 'as', 'purely', 'tragic', 'or', 'comic', 'Also', 'remembered', 'for', 'his', 'non-dramatic', 'contributions', 'Shakespeare', 'published', 'his', 'first', 'narrative', 'poem—the', 'erotic', 'Venus', 'and', 'Adonis', 'intriguingly', 'dedicated', 'to', 'his', 'close', 'friend', 'Henry', 'Wriothesley', 'Earl', 'of', 'Southampton—while', 'London', 'theaters', 'were', 'closed', 'due', 'to', 'a', 'plague', 'outbreak', 'in', '1593', 'The', 'many', 'reprints', 'of', 'this', 'piece', 'and', 'a', 'second', 'poem', 'The', 'Rape', 'of', 'Lucrece', 'hint', 'that', 'during', 'his', 'lifetime', 'the', 'bard', 'was', 'chiefly', 'renowned', 'for', 'his', 'poetry', 'Shakespeare', \"'s\", 'famed', 'collection', 'of', 'sonnets', 'which', 'address', 'themes', 'ranging', 'from', 'love', 'and', 'sensuality', 'to', 'truth', 'and', 'beauty', 'was', 'printed', 'in', '1609', 'possibly', 'without', 'its', 'writer', \"'s\", 'consent', 'It', 'has', 'been', 'suggested', 'that', 'he', 'intended', 'them', 'for', 'his', 'intimate', 'circle', 'only', 'not', 'the', 'general', 'public', 'Perhaps', 'because', 'of', 'their', 'explicit', 'sexual', 'references', 'or', 'dark', 'emotional', 'character', 'the', 'sonnets', 'did', 'not', 'enjoy', 'the', 'same', 'success', 'as', 'Shakespeare', \"'s\", 'earlier', 'lyrical', 'works', 'Shakespeare', \"'s\", 'Death', 'and', 'Legacy', 'Shakespeare', 'died', 'at', 'age', '52', 'of', 'unknown', 'causes', 'on', 'April', '23', '1616', 'leaving', 'the', 'bulk', 'of', 'his', 'estate', 'to', 'his', 'daughter', 'Susanna', 'Anne', 'Hathaway', 'who', 'outlived', 'her', 'husband', 'by', 'seven', 'years', 'famously', 'received', 'his', 'second-best', 'bed.', 'The', 'slabstone', 'over', 'Shakespeare', \"'s\", 'tomb', 'located', 'inside', 'a', 'Stratford', 'church', 'bears', 'an', 'epitaph—written', 'some', 'say', 'by', 'the', 'bard', 'himself—warding', 'off', 'grave', 'robbers', 'with', 'a', 'curse', 'Blessed', 'be', 'the', 'man', 'that', 'spares', 'these', 'stones', 'And', 'cursed', 'be', 'he', 'that', 'moves', 'my', 'bones.', 'His', 'remains', 'have', 'yet', 'to', 'be', 'disturbed', 'despite', 'requests', 'by', 'archaeologists', 'keen', 'to', 'reveal', 'what', 'killed', 'him', 'In', '1623', 'two', 'of', 'Shakespeare', \"'s\", 'former', 'colleagues', 'published', 'a', 'collection', 'of', 'his', 'plays', 'commonly', 'known', 'as', 'the', 'First', 'Folio', 'In', 'its', 'preface', 'the', 'dramatist', 'Ben', 'Jonson', 'wrote', 'of', 'his', 'late', 'contemporary', 'He', 'was', 'not', 'of', 'an', 'age', 'but', 'for', 'all', 'time.', 'Indeed', 'Shakespeare', \"'s\", 'plays', 'continue', 'to', 'grace', 'stages', 'and', 'resonate', 'with', 'audiences', 'around', 'the', 'world', 'and', 'have', 'yielded', 'a', 'vast', 'array', 'of', 'film', 'television', 'and', 'theatrical', 'adaptations', 'Furthermore', 'Shakespeare', 'is', 'believed', 'to', 'have', 'influenced', 'the', 'English', 'language', 'more', 'than', 'any', 'other', 'writer', 'in', 'history', 'coining—or', 'at', 'the', 'very', 'least', 'popularizing—terms', 'and', 'phrases', 'that', 'still', 'regularly', 'crop', 'up', 'in', 'everyday', 'conversation', 'Examples', 'include', 'the', 'words', 'fashionable', 'Troilus', 'and', 'Cressida', 'sanctimonious', 'Measure', 'for', 'Measure', 'eyeball', 'A', 'Midsummer', 'Night', \"'s\", 'Dream', 'and', 'lackluster', 'As', 'You', 'Like', 'It', 'and', 'the', 'expressions', 'foregone', 'conclusion', 'Othello', 'in', 'a', 'pickle', 'The', 'Tempest', 'wild', 'goose', 'chase', 'Romeo', 'and', 'Juliet', 'and', 'one', 'fell', 'swoop', 'Macbeth']\n"
     ]
    }
   ],
   "source": [
    "import nltk\n",
    "import string as s\n",
    "def word_frequency(word):\n",
    "    sw = \"“”````''\"\n",
    "    thisdict =  {}\n",
    "    with open(word, encoding=\"utf-8\") as f:\n",
    "        content = f.read()\n",
    "    content = content.replace(\"’\",\"'\")\n",
    "    words = nltk.word_tokenize(content)\n",
    "    words = [z for z in words if z not in s.punctuation and z not in sw]\n",
    "    for x in set(words):\n",
    "        thisdict.update({x:words.count(x)}) \n",
    "    with open(\"word_frequency\", \"w\", encoding=\"utf-8\") as f:\n",
    "        for x, y in thisdict.items():\n",
    "            f.write(f\"{x}, {y}\\n\")\n",
    "    return thisdict\n",
    "\n",
    "\n",
    "\n",
    "def find_top_words(thisdict):\n",
    "    mydict = {}\n",
    "    top_words = sorted(thisdict.items(), key=lambda item: item[1], reverse=True)[:10]\n",
    "    for word, freq in top_words:\n",
    "        mydict[word] = freq\n",
    "    with open(\"top_words\", \"w\", encoding=\"utf-8\") as f:\n",
    "        for x, y in mydict.items():\n",
    "            f.write(f\"{x}, {y}\\n\")\n",
    "    return mydict\n",
    "\n",
    "def text_analyzer_tool(word):\n",
    "    word_freq = word_frequency(word)\n",
    "    top_words = find_top_words(word_freq)\n",
    "    with open(\"analyzed_text\", \"w\", encoding=\"utf-8\") as w:\n",
    "        w.write(f\"The top words in {word} are:\\n\")\n",
    "        w.write(\"\\n\")\n",
    "        for x in top_words:\n",
    "            w.write(f\"{x}\\n\")\n",
    "        w.write(\"\\n\")\n",
    "        w.write(f\"The frequency of all words in {word} are:\\n\")\n",
    "        w.write(\"\\n\")\n",
    "        for x, y in word_freq.items():\n",
    "            w.write(f\"{x}, {y}\\n\")\n",
    "\n",
    "text_analyzer_tool(\"Text\")"
   ]
  }
 ],
 "metadata": {
  "kernelspec": {
   "display_name": "Python 3",
   "language": "python",
   "name": "python3"
  },
  "language_info": {
   "codemirror_mode": {
    "name": "ipython",
    "version": 3
   },
   "file_extension": ".py",
   "mimetype": "text/x-python",
   "name": "python",
   "nbconvert_exporter": "python",
   "pygments_lexer": "ipython3",
   "version": "3.13.3"
  }
 },
 "nbformat": 4,
 "nbformat_minor": 5
}
