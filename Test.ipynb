{
 "cells": [
  {
   "cell_type": "code",
   "execution_count": 36,
   "id": "dc560ed3",
   "metadata": {},
   "outputs": [],
   "source": [
    "def word_frequency(word):\n",
    "    thisdict =  {}\n",
    "    with open(word, encoding=\"utf-8\") as f:\n",
    "        words = f.read().lower().split()\n",
    "    \n",
    "    for x in set(words):\n",
    "        thisdict.update({x:words.count(x)}) \n",
    "    with open(\"word_frequency\", \"w\", encoding=\"utf-8\") as w:\n",
    "        w.write(str(thisdict))\n",
    "    return thisdict\n",
    "\n",
    "\n",
    "\n",
    "def find_top_words(thisdict):\n",
    "    mydict = {}\n",
    "    top_words = sorted(thisdict.items(), key=lambda item: item[1], reverse=True)[:10]\n",
    "    for word, freq in top_words:\n",
    "        mydict[word] = freq\n",
    "    with open(\"top_words\", \"w\", encoding=\"utf-8\") as w:\n",
    "        w.write(str(mydict))\n",
    "    return mydict\n",
    "\n",
    "def text_analyzer_tool(word):\n",
    "    word_freq = word_frequency(word)\n",
    "    top_words = find_top_words(word_freq)\n",
    "    with open(\"analyzed_text\", \"w\", encoding=\"utf-8\") as w:\n",
    "        w.write(f\"The top words in {word} is {top_words}\\n and the word frequency of all the words are\\n {word_freq}\")\n",
    "\n",
    "text_analyzer_tool(\"Text\")\n"
   ]
  }
 ],
 "metadata": {
  "kernelspec": {
   "display_name": "Python 3",
   "language": "python",
   "name": "python3"
  },
  "language_info": {
   "codemirror_mode": {
    "name": "ipython",
    "version": 3
   },
   "file_extension": ".py",
   "mimetype": "text/x-python",
   "name": "python",
   "nbconvert_exporter": "python",
   "pygments_lexer": "ipython3",
   "version": "3.13.3"
  }
 },
 "nbformat": 4,
 "nbformat_minor": 5
}
