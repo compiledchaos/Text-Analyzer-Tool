{
 "cells": [
  {
   "cell_type": "code",
   "execution_count": null,
   "id": "dc560ed3",
   "metadata": {},
   "outputs": [],
   "source": [
    "import nltk\n",
    "import string as s\n",
    "import numpy as np\n",
    "import matplotlib.pyplot as plt\n",
    "\n",
    "def write_file(dict1,w,i):\n",
    "    if i == 1:\n",
    "        for x, y in dict1.items():\n",
    "            w.write(f\"{x}, {y}\\n\")\n",
    "    else:\n",
    "        for x in dict1:\n",
    "            w.write(f\"{x}\\n\")\n",
    "\n",
    "def word_frequency(word):\n",
    "    sw = \"“”````''\"\n",
    "    with open(word, encoding=\"utf-8\") as f:\n",
    "        content = f.read().replace(\"’\",\"'\")\n",
    "    words = nltk.word_tokenize(content)\n",
    "    words = [z for z in words if z not in s.punctuation and z not in sw]\n",
    "    thisdict = {w: words.count(w) for w in set(words)}\n",
    "    with open(\"word_frequency\", \"w\", encoding=\"utf-8\") as w:\n",
    "        write_file(thisdict,w,1)\n",
    "    return thisdict\n",
    "\n",
    "\n",
    "def find_top_words(thisdict, o):\n",
    "    top_words = sorted(thisdict.items(), key=lambda item: item[1], reverse=True)[:o]\n",
    "    mydict = dict(top_words)\n",
    "    with open(\"top_words\", \"w\", encoding=\"utf-8\") as w:\n",
    "        write_file(mydict,w,1)\n",
    "    return mydict\n",
    "\n",
    "def text_analyzer_tool(word):\n",
    "    word_freq, n = word_frequency(word), 25\n",
    "    top_words, z = find_top_words(word_freq, 10), np.zeros(len(find_top_words(word_freq, n)))\n",
    "    z[:], ls = list(find_top_words(word_freq, n).values()), list(find_top_words(word_freq, n).keys())\n",
    "    with open(\"analyzed_text\", \"w\", encoding=\"utf-8\") as w:\n",
    "        w.write(f\"The top words in {word} are:\\n\\n\")\n",
    "        write_file(top_words,w,0)\n",
    "        w.write(\"\\n\")\n",
    "        w.write(f\"The frequency of all words in {word} are:\\n\\n\")\n",
    "        write_file(word_freq,w,1)\n",
    "    return z,ls\n",
    "\n",
    "z,ls = text_analyzer_tool(\"Text\")\n",
    "plt.figure(figsize=(16,8))\n",
    "plt.bar(ls, z)\n",
    "plt.xticks(size=10, rotation=45)\n",
    "plt.yticks(np.arange(5,65, step=5))\n",
    "plt.xlabel(\"Top 25 Words\")\n",
    "plt.ylabel(\"Number of Occurrences\")\n",
    "plt.tight_layout()\n",
    "plt.savefig(\"Graph.png\")\n",
    "#plt.show()"
   ]
  }
 ],
 "metadata": {
  "kernelspec": {
   "display_name": "Python 3",
   "language": "python",
   "name": "python3"
  },
  "language_info": {
   "codemirror_mode": {
    "name": "ipython",
    "version": 3
   },
   "file_extension": ".py",
   "mimetype": "text/x-python",
   "name": "python",
   "nbconvert_exporter": "python",
   "pygments_lexer": "ipython3",
   "version": "3.13.3"
  }
 },
 "nbformat": 4,
 "nbformat_minor": 5
}
